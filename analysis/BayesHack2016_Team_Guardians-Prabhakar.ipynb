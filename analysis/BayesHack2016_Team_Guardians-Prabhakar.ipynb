{
 "cells": [
  {
   "cell_type": "markdown",
   "metadata": {},
   "source": [
    "### How can data help us heal communities at high risk for suicide?\n",
    "\n",
    "A person or vehicle is hit by a train about once every three hours.\n",
    "\n",
    "This results in approximately 700 deaths per year, by accident and by suicide.\n",
    "\n",
    "By creating descriptive models that examine empiric data on train fatalities and predictive models that can anticipate accidents and suicide attempts, we can decrease the number of deaths that occur and focus on communities that are at disproportinately high risk. Good data can be a focus national efforts to heal areas impacted by suicide, and to promote smart planning and routing to prevent accidents.\n",
    "\n",
    "Data link: https://drive.google.com/file/d/0B-velHZJGPpOVF9ueHJsNWI0ZUk/view\n",
    "\n",
    "**Useful Links:**\n",
    "\n",
    "http://transweb.sjsu.edu/PDFs/research/1129-2-preventing-suicide-on-US-rail-systems.pdf\n",
    "\n",
    "http://railwaysuicideprevention.com/railway-fatalities/overview.html#suicide\n",
    "\n",
    "http://safetydata.fra.dot.gov/OfficeofSafety/default.aspx"
   ]
  },
  {
   "cell_type": "markdown",
   "metadata": {},
   "source": [
    "### EDA"
   ]
  },
  {
   "cell_type": "code",
   "execution_count": 1,
   "metadata": {
    "collapsed": true
   },
   "outputs": [],
   "source": [
    "# coding: utf-8\n",
    "import csv as csv\n",
    "import numpy as np\n",
    "import pandas as pd\n",
    "from sklearn.cross_validation import train_test_split\n",
    "from sklearn.linear_model import LinearRegression\n",
    "from sklearn.linear_model import LogisticRegression\n",
    "from sklearn.tree import DecisionTreeRegressor\n",
    "from sklearn.preprocessing import MultiLabelBinarizer\n",
    "\n",
    "# SK-learn libraries for learning.\n",
    "from sklearn.pipeline import Pipeline\n",
    "from sklearn.neighbors import KNeighborsClassifier\n",
    "from sklearn.naive_bayes import BernoulliNB\n",
    "from sklearn.naive_bayes import MultinomialNB\n",
    "from sklearn.grid_search import GridSearchCV\n",
    "\n",
    "# SK-learn libraries for evaluation.\n",
    "from sklearn.metrics import confusion_matrix\n",
    "from sklearn import metrics\n",
    "from sklearn.metrics import f1_score\n",
    "from sklearn.metrics import classification_report\n",
    "\n",
    "import matplotlib.pyplot as plt\n",
    "import matplotlib\n",
    "import seaborn as sns\n",
    "matplotlib.style.use('ggplot')\n",
    "from sklearn.cross_validation import StratifiedShuffleSplit\n",
    "from sklearn.cross_validation import ShuffleSplit\n",
    "%matplotlib inline\n",
    "\n",
    "import xgboost as xgb\n",
    "from sklearn.ensemble import RandomForestClassifier\n",
    "%matplotlib inline"
   ]
  },
  {
   "cell_type": "code",
   "execution_count": 2,
   "metadata": {
    "collapsed": true
   },
   "outputs": [],
   "source": [
    "#setup filepaths for data \n",
    "folderpath = 'data'\n",
    "# File paths\n",
    "inputfile = folderpath + '/ALLCASUALTIES.csv'"
   ]
  },
  {
   "cell_type": "code",
   "execution_count": 3,
   "metadata": {
    "collapsed": true
   },
   "outputs": [],
   "source": [
    "# function to join relevant datasets together\n",
    "def load(filepath):\n",
    "    df = pd.read_csv(filepath, header=0 ,parse_dates=True)    \n",
    "    #map_RAILROAD={'YN':0,'WP':1,'WSR':2,'WLO':3,}\n",
    "    #df['RAILROAD'].replace(RAILROAD, inplace=True)\n",
    "    #Data Engineering        \n",
    "    return df"
   ]
  },
  {
   "cell_type": "code",
   "execution_count": 4,
   "metadata": {
    "collapsed": false
   },
   "outputs": [
    {
     "name": "stderr",
     "output_type": "stream",
     "text": [
      "/opt/anaconda/lib/python2.7/site-packages/IPython/core/interactiveshell.py:3006: DtypeWarning: Columns (5,6,7,9,10,14,17,19,29,30,32,33,34,35,36,38,40,41,42,43,44,45,46,47) have mixed types. Specify dtype option on import or set low_memory=False.\n",
      "  if self.run_code(code, result):\n"
     ]
    }
   ],
   "source": [
    "data_df = load(inputfile)"
   ]
  },
  {
   "cell_type": "code",
   "execution_count": 6,
   "metadata": {
    "collapsed": false
   },
   "outputs": [
    {
     "name": "stdout",
     "output_type": "stream",
     "text": [
      "(1067153, 50)\n"
     ]
    },
    {
     "data": {
      "text/html": [
       "<div>\n",
       "<table border=\"1\" class=\"dataframe\">\n",
       "  <thead>\n",
       "    <tr style=\"text-align: right;\">\n",
       "      <th></th>\n",
       "      <th>IYR</th>\n",
       "      <th>IMO</th>\n",
       "      <th>RAILROAD</th>\n",
       "      <th>INCDTNO</th>\n",
       "      <th>TYPPERS</th>\n",
       "      <th>JOBCODE</th>\n",
       "      <th>NATINJ</th>\n",
       "      <th>LOCATION</th>\n",
       "      <th>IFATAL</th>\n",
       "      <th>OCCODE</th>\n",
       "      <th>...</th>\n",
       "      <th>TOOLS</th>\n",
       "      <th>INJCAUS</th>\n",
       "      <th>HZMEXPOS</th>\n",
       "      <th>TERMINAT</th>\n",
       "      <th>NARR1</th>\n",
       "      <th>NARR2</th>\n",
       "      <th>NARR3</th>\n",
       "      <th>COVERDATA</th>\n",
       "      <th>LATITUDE</th>\n",
       "      <th>LONGITUD</th>\n",
       "    </tr>\n",
       "  </thead>\n",
       "  <tbody>\n",
       "    <tr>\n",
       "      <th>0</th>\n",
       "      <td>75</td>\n",
       "      <td>12</td>\n",
       "      <td>YN</td>\n",
       "      <td>1275001</td>\n",
       "      <td>A</td>\n",
       "      <td>615</td>\n",
       "      <td>20</td>\n",
       "      <td>3</td>\n",
       "      <td>NaN</td>\n",
       "      <td>301</td>\n",
       "      <td>...</td>\n",
       "      <td>NaN</td>\n",
       "      <td>NaN</td>\n",
       "      <td>NaN</td>\n",
       "      <td>NaN</td>\n",
       "      <td>NaN</td>\n",
       "      <td>NaN</td>\n",
       "      <td>NaN</td>\n",
       "      <td>NaN</td>\n",
       "      <td>NaN</td>\n",
       "      <td>NaN</td>\n",
       "    </tr>\n",
       "  </tbody>\n",
       "</table>\n",
       "<p>1 rows × 50 columns</p>\n",
       "</div>"
      ],
      "text/plain": [
       "   IYR  IMO RAILROAD  INCDTNO TYPPERS JOBCODE NATINJ LOCATION IFATAL OCCODE  \\\n",
       "0   75   12       YN  1275001       A     615     20        3    NaN    301   \n",
       "\n",
       "    ...    TOOLS  INJCAUS  HZMEXPOS  TERMINAT NARR1  NARR2 NARR3 COVERDATA  \\\n",
       "0   ...      NaN      NaN       NaN       NaN   NaN    NaN   NaN       NaN   \n",
       "\n",
       "   LATITUDE LONGITUD  \n",
       "0       NaN      NaN  \n",
       "\n",
       "[1 rows x 50 columns]"
      ]
     },
     "execution_count": 6,
     "metadata": {},
     "output_type": "execute_result"
    },
    {
     "data": {
      "image/png": "[encoded data removed]",
      "text/plain": [
       "<matplotlib.figure.Figure at 0x7f0f600aa210>"
      ]
     },
     "metadata": {},
     "output_type": "display_data"
    }
   ],
   "source": [
    "#visualize the data\n",
    "data_df['AGE'].hist()\n",
    "print data_df.shape\n",
    "data_df[:1]"
   ]
  },
  {
   "cell_type": "code",
   "execution_count": 45,
   "metadata": {
    "collapsed": false
   },
   "outputs": [],
   "source": [
    "def feature_metrics(df, field):\n",
    "    print \"Unique values of \" + field + \": \" + str(len(df[field].value_counts()))\n",
    "    print \"Unique counts of \" + field + \":\\n\"\n",
    "    print df[field].value_counts()"
   ]
  },
  {
   "cell_type": "code",
   "execution_count": 15,
   "metadata": {
    "collapsed": false
   },
   "outputs": [],
   "source": [
    "data_df_fill = data_df.fillna('NaN')"
   ]
  },
  {
   "cell_type": "code",
   "execution_count": 41,
   "metadata": {
    "collapsed": false
   },
   "outputs": [
    {
     "data": {
      "text/plain": [
       "<matplotlib.figure.Figure at 0x7f3479bda310>"
      ]
     },
     "metadata": {},
     "output_type": "display_data"
    }
   ],
   "source": [
    "import operator\n",
    "from string import capwords\n",
    "import seaborn as sns\n",
    "\n",
    "# Plotting Options\n",
    "sns.set_style(\"whitegrid\")\n",
    "sns.despine()\n",
    "def plot_bar_to_file(df, title, filename):\n",
    "    p = (\n",
    "        'Set2', 'Paired', 'colorblind', 'husl',\n",
    "        'Set1', 'coolwarm', 'RdYlGn', 'spectral'\n",
    "    )\n",
    "    bar = df.plot(kind='barh',\n",
    "                  title=title,\n",
    "                  fontsize=8,\n",
    "                  figsize=(12,8),\n",
    "                  stacked=False,\n",
    "                  width=1,\n",
    "                  colors = sns.color_palette(np.random.choice(p), len(df)),\n",
    "    )\n",
    "\n",
    "    bar.figure.savefig(filename)\n",
    "    \n",
    "    plt.show()\n",
    "    \n",
    "def plot_bar(df, title):\n",
    "    p = (\n",
    "        'Set2', 'Paired', 'colorblind', 'husl',\n",
    "        'Set1', 'coolwarm', 'RdYlGn', 'spectral'\n",
    "    )\n",
    "    bar = df.plot(kind='barh',\n",
    "                  title=title,\n",
    "                  fontsize=8,\n",
    "                  figsize=(12,8),\n",
    "                  stacked=False,\n",
    "                  width=1,\n",
    "                  colors = sns.color_palette(np.random.choice(p), len(df)),\n",
    "    )\n",
    "\n",
    "    plt.show()\n",
    "\n",
    "def plot_top_values_to_file(df, column, title, fname, items=0):\n",
    "    df.columns     = df.columns.map(operator.methodcaller('lower'))\n",
    "    by_col         = df.groupby(column) \n",
    "    col_freq       = by_col.size()\n",
    "    col_freq.index = col_freq.index.map(capwords)\n",
    "\n",
    "    col_freq.sort(ascending=True, inplace=True)\n",
    "    plot_bar_to_file(col_freq[slice(-1, - items, -1)], title, fname)\n",
    "\n",
    "def plot_top_values(df, column, title, items=0):\n",
    "    df.columns     = df.columns.map(operator.methodcaller('lower'))\n",
    "    by_col         = df.groupby(column) \n",
    "    col_freq       = by_col.size()\n",
    "    col_freq.index = col_freq.index.map(capwords)\n",
    "\n",
    "    col_freq.sort(ascending=True, inplace=True)\n",
    "    plot_bar(col_freq[slice(0, - items, -1)], title)"
   ]
  },
  {
   "cell_type": "code",
   "execution_count": 126,
   "metadata": {
    "collapsed": false
   },
   "outputs": [],
   "source": [
    "def df_unique_values(df):\n",
    "    for field, values in df.iteritems():\n",
    "        print \"Total number of Unique values for \" + field + \": \" + str(len(values.value_counts()))"
   ]
  },
  {
   "cell_type": "code",
   "execution_count": 18,
   "metadata": {
    "collapsed": false
   },
   "outputs": [
    {
     "name": "stdout",
     "output_type": "stream",
     "text": [
      "Unique values: 41\n",
      "Unique counts:\n",
      "\n",
      "1979    75555\n",
      "1978    74191\n",
      "1977    69397\n",
      "1976    66961\n",
      "1980    63663\n",
      "1975    55860\n",
      "1981    54287\n",
      "1982    41394\n",
      "1984    39817\n",
      "1983    35892\n",
      "1985    35340\n",
      "1988    28253\n",
      "1989    28039\n",
      "1986    28014\n",
      "1987    27198\n",
      "1990    26440\n",
      "1991    24662\n",
      "1992    22553\n",
      "1993    20400\n",
      "1994    18038\n",
      "1995    15586\n",
      "1996    13597\n",
      "1997    12830\n",
      "1999    12632\n",
      "2000    12580\n",
      "1998    12467\n",
      "2002    12054\n",
      "2001    11956\n",
      "2007    10621\n",
      "2005    10576\n",
      "2004    10220\n",
      "2003    10208\n",
      "2008     9968\n",
      "2013     9853\n",
      "2006     9813\n",
      "2014     9764\n",
      "2015     9594\n",
      "2012     9506\n",
      "2011     9389\n",
      "2010     9186\n",
      "2009     8799\n",
      "Name: YEAR4, dtype: int64\n"
     ]
    }
   ],
   "source": [
    "feature_metrics(data_df_fill, 'YEAR4')"
   ]
  },
  {
   "cell_type": "code",
   "execution_count": 19,
   "metadata": {
    "collapsed": false
   },
   "outputs": [
    {
     "name": "stdout",
     "output_type": "stream",
     "text": [
      "Unique values: 5\n",
      "Unique counts:\n",
      "\n",
      "NaN    1064512\n",
      "X         1433\n",
      "P          571\n",
      "R          394\n",
      "A          243\n",
      "Name: COVERDATA, dtype: int64\n"
     ]
    }
   ],
   "source": [
    "feature_metrics(data_df_fill, 'COVERDATA')"
   ]
  },
  {
   "cell_type": "code",
   "execution_count": 21,
   "metadata": {
    "collapsed": false
   },
   "outputs": [
    {
     "name": "stdout",
     "output_type": "stream",
     "text": [
      "Unique values: 13\n",
      "Unique counts:\n",
      "\n",
      "NaN    902507\n",
      "0      120693\n",
      "1       38316\n",
      "00       5547\n",
      "N          70\n",
      "D0         10\n",
      "A0          2\n",
      "0           2\n",
      "2.0         2\n",
      "AD          1\n",
      "Y           1\n",
      "N/          1\n",
      "5.0         1\n",
      "Name: ALCOHOL, dtype: int64\n"
     ]
    }
   ],
   "source": [
    "feature_metrics(data_df_fill, 'ALCOHOL')"
   ]
  },
  {
   "cell_type": "code",
   "execution_count": 23,
   "metadata": {
    "collapsed": false
   },
   "outputs": [],
   "source": [
    "data_df['SUICIDE'] = np.where(data_df['COVERDATA'] == 'X', 'Y', 'N') "
   ]
  },
  {
   "cell_type": "code",
   "execution_count": 24,
   "metadata": {
    "collapsed": true
   },
   "outputs": [],
   "source": [
    "data_df_fill['SUICIDE'] = np.where(data_df_fill['COVERDATA'] == 'X', 'Y', 'N') "
   ]
  },
  {
   "cell_type": "code",
   "execution_count": 25,
   "metadata": {
    "collapsed": false
   },
   "outputs": [
    {
     "name": "stdout",
     "output_type": "stream",
     "text": [
      "Unique values: 2\n",
      "Unique counts:\n",
      "\n",
      "N    1065720\n",
      "Y       1433\n",
      "Name: SUICIDE, dtype: int64\n"
     ]
    }
   ],
   "source": [
    "feature_metrics(data_df_fill, 'SUICIDE')"
   ]
  },
  {
   "cell_type": "code",
   "execution_count": 28,
   "metadata": {
    "collapsed": false
   },
   "outputs": [],
   "source": [
    "data_df_suicide = data_df_fill[data_df_fill['SUICIDE'] == 'Y']"
   ]
  },
  {
   "cell_type": "code",
   "execution_count": 29,
   "metadata": {
    "collapsed": false
   },
   "outputs": [
    {
     "name": "stdout",
     "output_type": "stream",
     "text": [
      "Unique values: 5\n",
      "Unique counts:\n",
      "\n",
      "2013    341\n",
      "2012    314\n",
      "2014    301\n",
      "2015    271\n",
      "2011    206\n",
      "Name: YEAR4, dtype: int64\n"
     ]
    }
   ],
   "source": [
    "feature_metrics(data_df_suicide, 'YEAR4')"
   ]
  },
  {
   "cell_type": "code",
   "execution_count": 36,
   "metadata": {
    "collapsed": false
   },
   "outputs": [
    {
     "name": "stdout",
     "output_type": "stream",
     "text": [
      "Unique values of: DUMMY: 4\n",
      "Unique counts of DUMMY:\n",
      "\n",
      "NaN    892433\n",
      "X      151982\n",
      "P       21717\n",
      "R        1021\n",
      "Name: DUMMY, dtype: int64\n",
      "\n",
      "\n",
      "\n",
      "Unique values of: DUMMY2: 5\n",
      "Unique counts of DUMMY2:\n",
      "\n",
      "NaN    476576\n",
      "W      285321\n",
      "E      228821\n",
      "S       73485\n",
      "K        2950\n",
      "Name: DUMMY2, dtype: int64\n",
      "\n",
      "\n",
      "\n",
      "Unique values of: DUMMY3: 11\n",
      "Unique counts of DUMMY3:\n",
      "\n",
      "NaN    958138\n",
      "2.0     13076\n",
      "0.0     12910\n",
      "1.0     12494\n",
      "7.0     12299\n",
      "8.0     10834\n",
      "6.0     10719\n",
      "3.0      9703\n",
      "4.0      9586\n",
      "5.0      8838\n",
      "9.0      8556\n",
      "Name: DUMMY3, dtype: int64\n"
     ]
    }
   ],
   "source": [
    "feature_metrics(data_df_fill, 'DUMMY')\n",
    "print \"\\n\\n\"\n",
    "feature_metrics(data_df_fill, 'DUMMY2')\n",
    "print \"\\n\\n\"\n",
    "feature_metrics(data_df_fill, 'DUMMY3')"
   ]
  },
  {
   "cell_type": "code",
   "execution_count": 43,
   "metadata": {
    "collapsed": false
   },
   "outputs": [],
   "source": [
    "data_df_dummy = data_df_fill[(data_df_fill['DUMMY2']!='NaN') | (data_df_fill['DUMMY']!='NaN') | (data_df_fill['DUMMY3']!='NaN')]"
   ]
  },
  {
   "cell_type": "code",
   "execution_count": 44,
   "metadata": {
    "collapsed": false
   },
   "outputs": [
    {
     "name": "stdout",
     "output_type": "stream",
     "text": [
      "Unique values of: YEAR4: 22\n",
      "Unique counts of YEAR4:\n",
      "\n",
      "1979    71231\n",
      "1978    69820\n",
      "1977    63684\n",
      "1980    59893\n",
      "1981    51363\n",
      "1982    41394\n",
      "1984    31665\n",
      "1983    28673\n",
      "1985    28018\n",
      "1976    24428\n",
      "1986    22025\n",
      "1993    20400\n",
      "1975    20003\n",
      "1989    19908\n",
      "1987    19897\n",
      "1988    19788\n",
      "1990    19515\n",
      "1994    18038\n",
      "1991    17810\n",
      "1992    16351\n",
      "1995    15586\n",
      "1996    13597\n",
      "Name: YEAR4, dtype: int64\n"
     ]
    }
   ],
   "source": [
    "feature_metrics(data_df_dummy, 'YEAR4')"
   ]
  },
  {
   "cell_type": "code",
   "execution_count": 46,
   "metadata": {
    "collapsed": true
   },
   "outputs": [],
   "source": [
    "data_df_2011 = data_df_fill[data_df_fill['YEAR4'] > 2010]"
   ]
  },
  {
   "cell_type": "code",
   "execution_count": 48,
   "metadata": {
    "collapsed": false
   },
   "outputs": [
    {
     "name": "stdout",
     "output_type": "stream",
     "text": [
      "Unique values of SUICIDE: 2\n",
      "Unique counts of SUICIDE:\n",
      "\n",
      "N    46673\n",
      "Y     1433\n",
      "Name: SUICIDE, dtype: int64\n"
     ]
    },
    {
     "data": {
      "text/plain": [
       "(48106, 51)"
      ]
     },
     "execution_count": 48,
     "metadata": {},
     "output_type": "execute_result"
    }
   ],
   "source": [
    "feature_metrics(data_df_2011, 'SUICIDE')\n",
    "data_df_2011.shape"
   ]
  },
  {
   "cell_type": "code",
   "execution_count": 59,
   "metadata": {
    "collapsed": false
   },
   "outputs": [
    {
     "data": {
      "text/plain": [
       "array(['N', 'N', 'N', 'N'], dtype=object)"
      ]
     },
     "execution_count": 59,
     "metadata": {},
     "output_type": "execute_result"
    }
   ],
   "source": [
    "suicide_df = data_df_2011['SUICIDE']\n",
    "suicide_df[:3]\n",
    "labels = np.array(suicide_df)\n",
    "labels[:4]"
   ]
  },
  {
   "cell_type": "code",
   "execution_count": 105,
   "metadata": {
    "collapsed": false
   },
   "outputs": [
    {
     "data": {
      "text/plain": [
       "Index([u'IYR', u'IMO', u'RAILROAD', u'INCDTNO', u'TYPPERS', u'JOBCODE',\n",
       "       u'NATINJ', u'LOCATION', u'IFATAL', u'OCCODE', u'TCODE', u'AGE',\n",
       "       u'DAYSABS', u'DAYSRES', u'DUMMY', u'STATE', u'TYPRR', u'DUMMY1',\n",
       "       u'REGION', u'DUMMY2', u'NARRLEN', u'CASFATAL', u'CAS57', u'CAS54',\n",
       "       u'DUMMY3', u'DAY', u'YEAR4', u'TIMEHR', u'TIMEMIN', u'AMPM', u'COUNTY',\n",
       "       u'CNTYCD', u'STCNTY', u'ALCOHOL', u'DRUG', u'PHYACT', u'LOCA', u'LOCB',\n",
       "       u'LOCC', u'EVENT', u'TOOLS', u'INJCAUS', u'HZMEXPOS', u'TERMINAT',\n",
       "       u'NARR1', u'NARR2', u'NARR3', u'COVERDATA', u'LATITUDE', u'LONGITUD',\n",
       "       u'SUICIDE'],\n",
       "      dtype='object')"
      ]
     },
     "execution_count": 105,
     "metadata": {},
     "output_type": "execute_result"
    }
   ],
   "source": [
    "data_df_2011.columns"
   ]
  },
  {
   "cell_type": "code",
   "execution_count": 106,
   "metadata": {
    "collapsed": false
   },
   "outputs": [
    {
     "name": "stderr",
     "output_type": "stream",
     "text": [
      "/opt/anaconda/lib/python2.7/site-packages/ipykernel/__main__.py:2: SettingWithCopyWarning: \n",
      "A value is trying to be set on a copy of a slice from a DataFrame.\n",
      "Try using .loc[row_indexer,col_indexer] = value instead\n",
      "\n",
      "See the caveats in the documentation: http://pandas.pydata.org/pandas-docs/stable/indexing.html#indexing-view-versus-copy\n",
      "  from ipykernel import kernelapp as app\n"
     ]
    }
   ],
   "source": [
    "new_index = range(0, len(data_df_2011))\n",
    "data_df_2011['ni'] = new_index\n",
    "data_df_2011 = data_df_2011.set_index('ni')"
   ]
  },
  {
   "cell_type": "code",
   "execution_count": 138,
   "metadata": {
    "collapsed": true
   },
   "outputs": [],
   "source": [
    "def shuffle(df, n, axis=0):\n",
    "    for k in range(n):\n",
    "        df = df.reindex(np.random.permutation(df.index))\n",
    "    return df"
   ]
  },
  {
   "cell_type": "code",
   "execution_count": 150,
   "metadata": {
    "collapsed": false
   },
   "outputs": [],
   "source": [
    "X = shuffle(data_df_2011, 10)"
   ]
  },
  {
   "cell_type": "code",
   "execution_count": 151,
   "metadata": {
    "collapsed": true
   },
   "outputs": [],
   "source": [
    "full_train_df, train_labels = X[:30000], np.array(X['SUICIDE'][:30000])\n",
    "full_test_df, test_labels = X[30000:], np.array(X['SUICIDE'][30000:])"
   ]
  },
  {
   "cell_type": "code",
   "execution_count": 152,
   "metadata": {
    "collapsed": false
   },
   "outputs": [
    {
     "name": "stdout",
     "output_type": "stream",
     "text": [
      "Train data\n",
      "Unique values of SUICIDE: 2\n",
      "Unique counts of SUICIDE:\n",
      "\n",
      "N    29103\n",
      "Y      897\n",
      "Name: SUICIDE, dtype: int64\n",
      "\n",
      "\n",
      "Test data\n",
      "Unique values of SUICIDE: 2\n",
      "Unique counts of SUICIDE:\n",
      "\n",
      "N    17570\n",
      "Y      536\n",
      "Name: SUICIDE, dtype: int64\n"
     ]
    }
   ],
   "source": [
    "print \"Train data\"\n",
    "feature_metrics(full_train_df, 'SUICIDE')\n",
    "print \"\\n\\nTest data\"\n",
    "feature_metrics(full_test_df, 'SUICIDE')"
   ]
  },
  {
   "cell_type": "code",
   "execution_count": 153,
   "metadata": {
    "collapsed": false
   },
   "outputs": [
    {
     "name": "stdout",
     "output_type": "stream",
     "text": [
      "Total number of Unique values for IYR: 5\n",
      "Total number of Unique values for IMO: 12\n",
      "Total number of Unique values for RAILROAD: 431\n",
      "Total number of Unique values for INCDTNO: 27360\n",
      "Total number of Unique values for TYPPERS: 10\n",
      "Total number of Unique values for JOBCODE: 113\n",
      "Total number of Unique values for NATINJ: 28\n",
      "Total number of Unique values for LOCATION: 10\n",
      "Total number of Unique values for IFATAL: 21\n",
      "Total number of Unique values for OCCODE: 1\n",
      "Total number of Unique values for TCODE: 1\n",
      "Total number of Unique values for AGE: 100\n",
      "Total number of Unique values for DAYSABS: 264\n",
      "Total number of Unique values for DAYSRES: 162\n",
      "Total number of Unique values for DUMMY: 1\n",
      "Total number of Unique values for STATE: 51\n",
      "Total number of Unique values for TYPRR: 7\n",
      "Total number of Unique values for DUMMY1: 1\n",
      "Total number of Unique values for REGION: 8\n",
      "Total number of Unique values for DUMMY2: 1\n",
      "Total number of Unique values for NARRLEN: 251\n",
      "Total number of Unique values for CASFATAL: 2\n",
      "Total number of Unique values for CAS57: 2\n",
      "Total number of Unique values for CAS54: 2\n",
      "Total number of Unique values for DUMMY3: 1\n",
      "Total number of Unique values for DAY: 31\n",
      "Total number of Unique values for YEAR4: 5\n",
      "Total number of Unique values for TIMEHR: 12\n",
      "Total number of Unique values for TIMEMIN: 60\n",
      "Total number of Unique values for AMPM: 2\n",
      "Total number of Unique values for COUNTY: 1290\n",
      "Total number of Unique values for CNTYCD: 241\n",
      "Total number of Unique values for STCNTY: 2026\n",
      "Total number of Unique values for ALCOHOL: 3\n",
      "Total number of Unique values for DRUG: 3\n",
      "Total number of Unique values for PHYACT: 95\n",
      "Total number of Unique values for LOCA: 23\n",
      "Total number of Unique values for LOCB: 39\n",
      "Total number of Unique values for LOCC: 50\n",
      "Total number of Unique values for EVENT: 82\n",
      "Total number of Unique values for TOOLS: 94\n",
      "Total number of Unique values for INJCAUS: 50\n",
      "Total number of Unique values for HZMEXPOS: 3\n",
      "Total number of Unique values for TERMINAT: 3\n",
      "Total number of Unique values for NARR1: 12972\n",
      "Total number of Unique values for NARR2: 8302\n",
      "Total number of Unique values for NARR3: 2191\n",
      "Total number of Unique values for COVERDATA: 5\n",
      "Total number of Unique values for LATITUDE: 10904\n",
      "Total number of Unique values for LONGITUD: 10917\n",
      "Total number of Unique values for SUICIDE: 2\n",
      "test data:\n",
      "Total number of Unique values for IYR: 5\n",
      "Total number of Unique values for IMO: 12\n",
      "Total number of Unique values for RAILROAD: 357\n",
      "Total number of Unique values for INCDTNO: 16802\n",
      "Total number of Unique values for TYPPERS: 10\n",
      "Total number of Unique values for JOBCODE: 112\n",
      "Total number of Unique values for NATINJ: 27\n",
      "Total number of Unique values for LOCATION: 10\n",
      "Total number of Unique values for IFATAL: 21\n",
      "Total number of Unique values for OCCODE: 1\n",
      "Total number of Unique values for TCODE: 1\n",
      "Total number of Unique values for AGE: 99\n",
      "Total number of Unique values for DAYSABS: 231\n",
      "Total number of Unique values for DAYSRES: 136\n",
      "Total number of Unique values for DUMMY: 1\n",
      "Total number of Unique values for STATE: 50\n",
      "Total number of Unique values for TYPRR: 7\n",
      "Total number of Unique values for DUMMY1: 1\n",
      "Total number of Unique values for REGION: 8\n",
      "Total number of Unique values for DUMMY2: 1\n",
      "Total number of Unique values for NARRLEN: 251\n",
      "Total number of Unique values for CASFATAL: 2\n",
      "Total number of Unique values for CAS57: 2\n",
      "Total number of Unique values for CAS54: 2\n",
      "Total number of Unique values for DUMMY3: 1\n",
      "Total number of Unique values for DAY: 31\n",
      "Total number of Unique values for YEAR4: 5\n",
      "Total number of Unique values for TIMEHR: 12\n",
      "Total number of Unique values for TIMEMIN: 60\n",
      "Total number of Unique values for AMPM: 2\n",
      "Total number of Unique values for COUNTY: 1156\n",
      "Total number of Unique values for CNTYCD: 229\n",
      "Total number of Unique values for STCNTY: 1782\n",
      "Total number of Unique values for ALCOHOL: 4\n",
      "Total number of Unique values for DRUG: 4\n",
      "Total number of Unique values for PHYACT: 94\n",
      "Total number of Unique values for LOCA: 23\n",
      "Total number of Unique values for LOCB: 39\n",
      "Total number of Unique values for LOCC: 48\n",
      "Total number of Unique values for EVENT: 80\n",
      "Total number of Unique values for TOOLS: 93\n",
      "Total number of Unique values for INJCAUS: 46\n",
      "Total number of Unique values for HZMEXPOS: 3\n",
      "Total number of Unique values for TERMINAT: 3\n",
      "Total number of Unique values for NARR1: 7912\n",
      "Total number of Unique values for NARR2: 5050\n",
      "Total number of Unique values for NARR3: 1404\n",
      "Total number of Unique values for COVERDATA: 5\n",
      "Total number of Unique values for LATITUDE: 6859\n",
      "Total number of Unique values for LONGITUD: 6867\n",
      "Total number of Unique values for SUICIDE: 2\n"
     ]
    }
   ],
   "source": [
    "df_unique_values(full_train_df)\n",
    "print \"test data:\"\n",
    "df_unique_values(full_test_df)"
   ]
  },
  {
   "cell_type": "code",
   "execution_count": 154,
   "metadata": {
    "collapsed": false
   },
   "outputs": [
    {
     "name": "stdout",
     "output_type": "stream",
     "text": [
      "Unique values of STATE: 51\n",
      "Unique counts of STATE:\n",
      "\n",
      "36    4036\n",
      "17    2463\n",
      "34    2420\n",
      "6     2419\n",
      "42    1972\n",
      "48    1699\n",
      "12     838\n",
      "18     652\n",
      "25     642\n",
      "39     615\n",
      "13     588\n",
      "22     545\n",
      "53     539\n",
      "27     536\n",
      "37     535\n",
      "9      499\n",
      "29     484\n",
      "51     481\n",
      "47     469\n",
      "31     421\n",
      "20     401\n",
      "26     397\n",
      "1      381\n",
      "24     377\n",
      "55     374\n",
      "11     363\n",
      "21     350\n",
      "19     350\n",
      "5      334\n",
      "8      332\n",
      "41     323\n",
      "38     287\n",
      "45     276\n",
      "40     267\n",
      "30     251\n",
      "54     250\n",
      "28     249\n",
      "4      225\n",
      "35     214\n",
      "10     179\n",
      "2      163\n",
      "32     163\n",
      "49     153\n",
      "56     127\n",
      "16      96\n",
      "50      79\n",
      "44      64\n",
      "46      56\n",
      "23      48\n",
      "33      17\n",
      "15       1\n",
      "Name: STATE, dtype: int64\n",
      "Unique values of STATE: 50\n",
      "Unique counts of STATE:\n",
      "\n",
      "36    2460\n",
      "17    1544\n",
      "34    1487\n",
      "6     1396\n",
      "42    1140\n",
      "48     996\n",
      "12     493\n",
      "18     414\n",
      "22     353\n",
      "13     349\n",
      "25     339\n",
      "39     336\n",
      "29     319\n",
      "27     307\n",
      "51     301\n",
      "47     298\n",
      "53     293\n",
      "37     291\n",
      "31     288\n",
      "9      285\n",
      "26     249\n",
      "24     247\n",
      "20     244\n",
      "55     244\n",
      "1      242\n",
      "8      229\n",
      "19     218\n",
      "5      216\n",
      "21     200\n",
      "11     196\n",
      "45     183\n",
      "38     182\n",
      "40     176\n",
      "41     164\n",
      "28     163\n",
      "54     156\n",
      "4      151\n",
      "35     136\n",
      "30     135\n",
      "10     128\n",
      "2      112\n",
      "32      87\n",
      "49      67\n",
      "56      66\n",
      "16      59\n",
      "44      57\n",
      "50      50\n",
      "23      33\n",
      "46      22\n",
      "33       5\n",
      "Name: STATE, dtype: int64\n"
     ]
    }
   ],
   "source": [
    "feature_metrics(full_train_df, 'STATE')\n",
    "feature_metrics(full_test_df, 'STATE')"
   ]
  },
  {
   "cell_type": "code",
   "execution_count": 168,
   "metadata": {
    "collapsed": false
   },
   "outputs": [
    {
     "name": "stdout",
     "output_type": "stream",
     "text": [
      "56  WYOMING \n",
      "54 WEST VIRGINIA \n",
      "42 PENNSYLVANIA \n",
      "50 VERMONT \n",
      "49 UTAH \n",
      "53 WASHINGTON \n",
      "24 MARYLAND  \n",
      "25 MASSACHUSETTS  \n",
      "26 MICHIGAN  \n",
      "27 MINNESOTA  \n",
      "20 KANSAS  \n",
      "21 KENTUCKY  \n",
      "22 LOUISIANA  \n",
      "23 MAINE  \n",
      "46 SOUTH DAKOTA \n",
      "47 TENNESSEE \n",
      "44 RHODE ISLAND \n",
      "45 SOUTH CAROLINA \n",
      "28 MISSISSIPPI  \n",
      "29 MISSOURI\n",
      "40 OKLAHOMA \n",
      "41  OREGON \n",
      "1 ALABAMA \n",
      "2 ALASKA  \n",
      "5 ARKANSAS  \n",
      "4 ARIZONA  \n",
      "6 CALIFORNIA  \n",
      "9 CONNECTICUT  \n",
      "8 COLORADO \n",
      "51 VIRGINIA \n",
      "39 OHIO \n",
      "38 NORTH DAKOTA \n",
      "11 DISTRICT OF COLUMBIA  \n",
      "10 DELAWARE  \n",
      "13 GEORGIA  \n",
      "12 FLORIDA  \n",
      "15 HAWAII  \n",
      "48 TEXAS \n",
      "17 ILLINOIS  \n",
      "16 IDAHO  \n",
      "19 IOWA  \n",
      "18 INDIANA  \n",
      "31 NEBRASKA \n",
      "30 MONTANA \n",
      "37 NORTH CAROLINA \n",
      "36 NEW YORK \n",
      "35 NEW MEXICO \n",
      "34 NEW JERSEY \n",
      "33 NEW HAMPSHIRE \n",
      "55 WISCONSIN \n",
      "32 NEVADA \n"
     ]
    }
   ],
   "source": [
    "from numericcodes_tmp import numericcodes\n",
    "for item in numericcodes.dictSTATE:\n",
    "    state = numericcodes.dictSTATE[item]\n",
    "    print item, state['desc']"
   ]
  },
  {
   "cell_type": "code",
   "execution_count": 191,
   "metadata": {
    "collapsed": true
   },
   "outputs": [],
   "source": [
    "def get_state_label(state_code):\n",
    "    return numericcodes.dictSTATE[state_code]['desc']\n",
    "\n",
    "def get_state_code(state_label):\n",
    "    for item in numericcodes.dictSTATE:\n",
    "        state = numericcodes.dictSTATE[item]['desc'].strip()\n",
    "        if state_label == state:\n",
    "            return item"
   ]
  },
  {
   "cell_type": "code",
   "execution_count": 192,
   "metadata": {
    "collapsed": false
   },
   "outputs": [
    {
     "name": "stdout",
     "output_type": "stream",
     "text": [
      "NEVADA \n",
      "36\n"
     ]
    }
   ],
   "source": [
    "print get_state_label('32')\n",
    "\n",
    "print get_state_code('NEW YORK')"
   ]
  },
  {
   "cell_type": "code",
   "execution_count": 134,
   "metadata": {
    "collapsed": true
   },
   "outputs": [],
   "source": [
    "def feature_engineering(data_df):\n",
    "    years = pd.get_dummies(data_df.YEAR4)\n",
    "    months = pd.get_dummies(data_df.IMO)\n",
    "    states = pd.get_dummies(data_df.STATE)\n",
    "    regions = pd.get_dummies(data_df.REGION)\n",
    "    df = pd.concat([years, months, states], axis = 1)\n",
    "    \n",
    "    return df"
   ]
  },
  {
   "cell_type": "code",
   "execution_count": 137,
   "metadata": {
    "collapsed": false
   },
   "outputs": [
    {
     "name": "stdout",
     "output_type": "stream",
     "text": [
      "Train data Shape:  (28000, 67)\n",
      "Test data Shape:  (20106, 68)\n"
     ]
    }
   ],
   "source": [
    "train_df = feature_engineering(full_train_df)\n",
    "test_df = feature_engineering(full_test_df)\n",
    "print \"Train data Shape: \", train_df.shape\n",
    "print \"Test data Shape: \", test_df.shape\n"
   ]
  },
  {
   "cell_type": "code",
   "execution_count": 136,
   "metadata": {
    "collapsed": false
   },
   "outputs": [
    {
     "data": {
      "text/html": [
       "<div>\n",
       "<table border=\"1\" class=\"dataframe\">\n",
       "  <thead>\n",
       "    <tr style=\"text-align: right;\">\n",
       "      <th></th>\n",
       "      <th>2011.0</th>\n",
       "      <th>2012.0</th>\n",
       "      <th>2013.0</th>\n",
       "      <th>2014.0</th>\n",
       "      <th>2015.0</th>\n",
       "      <th>1.0</th>\n",
       "      <th>2.0</th>\n",
       "      <th>3.0</th>\n",
       "      <th>4.0</th>\n",
       "      <th>5.0</th>\n",
       "      <th>...</th>\n",
       "      <th>46.0</th>\n",
       "      <th>47.0</th>\n",
       "      <th>48.0</th>\n",
       "      <th>49.0</th>\n",
       "      <th>50.0</th>\n",
       "      <th>51.0</th>\n",
       "      <th>53.0</th>\n",
       "      <th>54.0</th>\n",
       "      <th>55.0</th>\n",
       "      <th>56.0</th>\n",
       "    </tr>\n",
       "    <tr>\n",
       "      <th>ni</th>\n",
       "      <th></th>\n",
       "      <th></th>\n",
       "      <th></th>\n",
       "      <th></th>\n",
       "      <th></th>\n",
       "      <th></th>\n",
       "      <th></th>\n",
       "      <th></th>\n",
       "      <th></th>\n",
       "      <th></th>\n",
       "      <th></th>\n",
       "      <th></th>\n",
       "      <th></th>\n",
       "      <th></th>\n",
       "      <th></th>\n",
       "      <th></th>\n",
       "      <th></th>\n",
       "      <th></th>\n",
       "      <th></th>\n",
       "      <th></th>\n",
       "      <th></th>\n",
       "    </tr>\n",
       "  </thead>\n",
       "  <tbody>\n",
       "    <tr>\n",
       "      <th>10094</th>\n",
       "      <td>0</td>\n",
       "      <td>1</td>\n",
       "      <td>0</td>\n",
       "      <td>0</td>\n",
       "      <td>0</td>\n",
       "      <td>0</td>\n",
       "      <td>0</td>\n",
       "      <td>0</td>\n",
       "      <td>0</td>\n",
       "      <td>0</td>\n",
       "      <td>...</td>\n",
       "      <td>0</td>\n",
       "      <td>0</td>\n",
       "      <td>0</td>\n",
       "      <td>0</td>\n",
       "      <td>0</td>\n",
       "      <td>0</td>\n",
       "      <td>0</td>\n",
       "      <td>0</td>\n",
       "      <td>0</td>\n",
       "      <td>0</td>\n",
       "    </tr>\n",
       "    <tr>\n",
       "      <th>25911</th>\n",
       "      <td>0</td>\n",
       "      <td>0</td>\n",
       "      <td>1</td>\n",
       "      <td>0</td>\n",
       "      <td>0</td>\n",
       "      <td>0</td>\n",
       "      <td>0</td>\n",
       "      <td>0</td>\n",
       "      <td>0</td>\n",
       "      <td>0</td>\n",
       "      <td>...</td>\n",
       "      <td>0</td>\n",
       "      <td>0</td>\n",
       "      <td>0</td>\n",
       "      <td>0</td>\n",
       "      <td>0</td>\n",
       "      <td>0</td>\n",
       "      <td>0</td>\n",
       "      <td>0</td>\n",
       "      <td>0</td>\n",
       "      <td>0</td>\n",
       "    </tr>\n",
       "  </tbody>\n",
       "</table>\n",
       "<p>2 rows × 67 columns</p>\n",
       "</div>"
      ],
      "text/plain": [
       "       2011  2012  2013  2014  2015  1     2     3     4     5     ...   46    \\\n",
       "ni                                                                 ...          \n",
       "10094     0     1     0     0     0     0     0     0     0     0  ...      0   \n",
       "25911     0     0     1     0     0     0     0     0     0     0  ...      0   \n",
       "\n",
       "       47    48    49    50    51    53    54    55    56    \n",
       "ni                                                           \n",
       "10094     0     0     0     0     0     0     0     0     0  \n",
       "25911     0     0     0     0     0     0     0     0     0  \n",
       "\n",
       "[2 rows x 67 columns]"
      ]
     },
     "execution_count": 136,
     "metadata": {},
     "output_type": "execute_result"
    }
   ],
   "source": [
    "train_df.shape"
   ]
  },
  {
   "cell_type": "code",
   "execution_count": null,
   "metadata": {
    "collapsed": true
   },
   "outputs": [],
   "source": []
  }
 ],
 "metadata": {
  "kernelspec": {
   "display_name": "Python 2",
   "language": "python",
   "name": "python2"
  },
  "language_info": {
   "codemirror_mode": {
    "name": "ipython",
    "version": 2
   },
   "file_extension": ".py",
   "mimetype": "text/x-python",
   "name": "python",
   "nbconvert_exporter": "python",
   "pygments_lexer": "ipython2",
   "version": "2.7.11"
  }
 },
 "nbformat": 4,
 "nbformat_minor": 0
}
